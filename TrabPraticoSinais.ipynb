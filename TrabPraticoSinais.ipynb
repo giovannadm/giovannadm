{
  "nbformat": 4,
  "nbformat_minor": 0,
  "metadata": {
    "colab": {
      "provenance": [],
      "toc_visible": true,
      "include_colab_link": true
    },
    "kernelspec": {
      "name": "python3",
      "display_name": "Python 3"
    },
    "language_info": {
      "name": "python"
    }
  },
  "cells": [
    {
      "cell_type": "markdown",
      "metadata": {
        "id": "view-in-github",
        "colab_type": "text"
      },
      "source": [
        "<a href=\"https://colab.research.google.com/github/giovannadm/giovannadm/blob/Trab-Pratico-Sinais/TrabPraticoSinais.ipynb\" target=\"_parent\"><img src=\"https://colab.research.google.com/assets/colab-badge.svg\" alt=\"Open In Colab\"/></a>"
      ]
    },
    {
      "cell_type": "markdown",
      "source": [
        "# BIBLIOTECAS"
      ],
      "metadata": {
        "id": "0DzGbnZ0GOYW"
      }
    },
    {
      "cell_type": "code",
      "execution_count": null,
      "metadata": {
        "id": "XY__yBmszgju"
      },
      "outputs": [],
      "source": [
        "import numpy as np\n",
        "from matplotlib import pyplot as plt\n",
        "import sympy as sym\n",
        "from scipy import signal, integrate, fftpack\n",
        "from scipy.fft import fft, fftfreq\n",
        "%matplotlib inline\n",
        "plt.rcParams['figure.figsize'] = (14.0, 8.0)"
      ]
    },
    {
      "cell_type": "markdown",
      "source": [
        "# QUESTÃO 1-A E 1-B\n",
        "\n",
        "O sinal x[n-2] está em avanço e o sinal x[n+1] está em atraso\n"
      ],
      "metadata": {
        "id": "IYA0oDzeJ9uw"
      }
    },
    {
      "cell_type": "code",
      "source": [
        "#Especificando os 2 sinais\n",
        "x1 = np.array([0, 2, 3, 3, 2, 1, 1.5, 1.5, 0]) #valor do sinal x1\n",
        "n_x1 = np.array([1, 2, 3, 4, 5, 6, 7, 8, 9])  #índice do sinal x1\n",
        "x2 = np.array([0, 2, 3, 3, 2, 1, 1.5, 1.5, 0]) #valores do sinal x2\n",
        "n_x2 = np.array([-2, -1, 0, 1, 2, 3, 4, 5, 6])  #índice do sinal x2\n",
        "\n",
        "#Especificando detalhes do gráfico e plotando sinais\n",
        "plt.figure(figsize=(15,3));\n",
        "plt.suptitle(\"Sinais discretos originais\",fontsize=20, y=1.00);\n",
        "plt.stem(n_x1, x1,'blue',use_line_collection=True)\n",
        "\n",
        "plt.stem(n_x2, x2,'green',use_line_collection=True)\n",
        "plt.title(\"$x[n-2]$ - azul e $x[n+1]$  - verde\")\n",
        "plt.xlabel(\"n\")\n",
        "\n",
        "plt.tight_layout();\n",
        "\n",
        "#Convolução dos 2 sinais\n",
        "y = np.convolve(x1,x2)\n",
        "print(y)"
      ],
      "metadata": {
        "id": "n3A96T2LKBGo",
        "colab": {
          "base_uri": "https://localhost:8080/",
          "height": 446
        },
        "outputId": "e48f4456-cb5d-4c9a-df51-7654e64b9986"
      },
      "execution_count": null,
      "outputs": [
        {
          "output_type": "stream",
          "name": "stderr",
          "text": [
            "<ipython-input-27-6bc423b35b50>:8: MatplotlibDeprecationWarning: The 'use_line_collection' parameter of stem() was deprecated in Matplotlib 3.6 and will be removed two minor releases later. If any parameter follows 'use_line_collection', they should be passed as keyword, not positionally.\n",
            "  plt.stem(n_x1, x1,'blue',use_line_collection=True)\n",
            "<ipython-input-27-6bc423b35b50>:11: MatplotlibDeprecationWarning: The 'use_line_collection' parameter of stem() was deprecated in Matplotlib 3.6 and will be removed two minor releases later. If any parameter follows 'use_line_collection', they should be passed as keyword, not positionally.\n",
            "  plt.stem(n_x2, x2,'green',use_line_collection=True)\n"
          ]
        },
        {
          "output_type": "stream",
          "name": "stdout",
          "text": [
            "[ 0.    0.    4.   12.   21.   26.   25.   24.   25.   22.   16.    9.\n",
            "  5.25  4.5   2.25  0.    0.  ]\n"
          ]
        },
        {
          "output_type": "display_data",
          "data": {
            "text/plain": [
              "<Figure size 1500x300 with 1 Axes>"
            ],
            "image/png": "[encoded data removed]"
          },
          "metadata": {}
        }
      ]
    },
    {
      "cell_type": "code",
      "source": [
        "#Definindo os índices da primeira e última amostra de x1 e x2\n",
        "index_1a_amostra_x1 = 1\n",
        "index_ultima_amostra_x1 = 9\n",
        "\n",
        "index_1a_amostra_x2 = -2\n",
        "index_ultima_amostra_x2 = 6\n",
        "\n",
        "#Criando 2 arrays com valores começando na primeira amostra de cada sinal e indo até a última amostra, incrementando por 1\n",
        "x1_s = np.arange(index_1a_amostra_x1,index_ultima_amostra_x1 + 1, 1)\n",
        "x2_s = np.arange(index_1a_amostra_x2,index_ultima_amostra_x2 + 1, 1)\n",
        "\n",
        "x1_s\n",
        "x2_s"
      ],
      "metadata": {
        "colab": {
          "base_uri": "https://localhost:8080/"
        },
        "id": "ZKIw4XVZR6WX",
        "outputId": "2097cbd1-1812-48b5-97c9-0c7b77bd0f45"
      },
      "execution_count": null,
      "outputs": [
        {
          "output_type": "execute_result",
          "data": {
            "text/plain": [
              "array([-2, -1,  0,  1,  2,  3,  4,  5,  6])"
            ]
          },
          "metadata": {},
          "execution_count": 3
        }
      ]
    },
    {
      "cell_type": "code",
      "source": [
        "#Calculando índice da convolução dos dois sinais\n",
        "index_sinal_y = np.arange(min(x1_s) + min(x2_s), max(x1_s) + max(x2_s)+1, 1)\n",
        "index_sinal_y\n",
        "\n",
        "min(x1_s) + min(x2_s)\n",
        "max(x1_s) + max(x2_s)\n",
        "\n",
        "#Plotagem da convolução dos 2 sinais, x1 e x2\n",
        "plt.grid(\"on\")\n",
        "plt.title(\"Resultado da convolução\")\n",
        "plt.xlabel(\"Amostra (n)\")\n",
        "plt.ylabel(\"Amplitude\")\n",
        "plt.stem(index_sinal_y, y, use_line_collection = True)\n",
        "plt.show()"
      ],
      "metadata": {
        "colab": {
          "base_uri": "https://localhost:8080/",
          "height": 527
        },
        "id": "6eHcU5CsR9d7",
        "outputId": "63c2b3cf-8417-4e31-c56c-f41b61405e0a"
      },
      "execution_count": null,
      "outputs": [
        {
          "output_type": "stream",
          "name": "stderr",
          "text": [
            "<ipython-input-4-b842513d0a92>:12: MatplotlibDeprecationWarning: The 'use_line_collection' parameter of stem() was deprecated in Matplotlib 3.6 and will be removed two minor releases later. If any parameter follows 'use_line_collection', they should be passed as keyword, not positionally.\n",
            "  plt.stem(index_sinal_y, y, use_line_collection = True)\n"
          ]
        },
        {
          "output_type": "display_data",
          "data": {
            "text/plain": [
              "<Figure size 640x480 with 1 Axes>"
            ],
            "image/png": "[encoded data removed]"
          },
          "metadata": {}
        }
      ]
    },
    {
      "cell_type": "markdown",
      "source": [
        "#QUESTÃO 1-C"
      ],
      "metadata": {
        "id": "2_7RyYCdS36S"
      }
    },
    {
      "cell_type": "code",
      "source": [
        "#Calculando a Transformada Discreta de Fourier (TDF) do array y\n",
        "y = np.array([0, 2, 3, 3, 2, 1, 1.5, 1.5, 0])\n",
        "print(fft(y))\n",
        "\n",
        "#Quantidade de amostras na Transformada Discreta de Fourier (TDF)\n",
        "print('Numero de amostras:')\n",
        "N = len(y)\n",
        "print(N)\n",
        "\n",
        "Fs = 32 #Frequência de amostragen\n",
        "Ts = 1.0 / Fs #período da amostragem\n",
        "\n",
        "#Calculando as frequências correspondentes para a TDF\n",
        "print('Vetor X[k]:')\n",
        "yf = fft(y)\n",
        "print(yf)\n",
        "print('Range das frequencias de análise:')\n",
        "freqs_analises = fftfreq(N, Ts)[:N]\n",
        "print(freqs_analises)"
      ],
      "metadata": {
        "colab": {
          "base_uri": "https://localhost:8080/"
        },
        "id": "1ZYaEuT-SsmD",
        "outputId": "811c6742-44fe-4d50-e01d-e76dcaa709a9"
      },
      "execution_count": null,
      "outputs": [
        {
          "output_type": "stream",
          "name": "stdout",
          "text": [
            "[14.        -0.j         -2.75557218-4.4038451j  -3.83318711-0.54082001j\n",
            " -0.25      -1.29903811j -0.16124071-0.03408922j -0.16124071+0.03408922j\n",
            " -0.25      +1.29903811j -3.83318711+0.54082001j -2.75557218+4.4038451j ]\n",
            "Numero de amostras:\n",
            "9\n",
            "Vetor X[k]:\n",
            "[14.        -0.j         -2.75557218-4.4038451j  -3.83318711-0.54082001j\n",
            " -0.25      -1.29903811j -0.16124071-0.03408922j -0.16124071+0.03408922j\n",
            " -0.25      +1.29903811j -3.83318711+0.54082001j -2.75557218+4.4038451j ]\n",
            "Range das frequencias de análise:\n",
            "[  0.           3.55555556   7.11111111  10.66666667  14.22222222\n",
            " -14.22222222 -10.66666667  -7.11111111  -3.55555556]\n"
          ]
        }
      ]
    },
    {
      "cell_type": "code",
      "source": [
        "#Calculando a Frequência de Nyquist\n",
        "F_Niquyst = 16\n",
        "Fs = F_Niquyst*2\n",
        "print(Fs )"
      ],
      "metadata": {
        "colab": {
          "base_uri": "https://localhost:8080/"
        },
        "id": "e3JLEIftTinD",
        "outputId": "4685c87a-84f5-47ce-c8cf-bd3f61b89f18"
      },
      "execution_count": null,
      "outputs": [
        {
          "output_type": "stream",
          "name": "stdout",
          "text": [
            "32\n"
          ]
        }
      ]
    },
    {
      "cell_type": "code",
      "source": [
        "# Magnitude do Vetor X[K]\n",
        "print('Magnitude:')\n",
        "print(np.abs(yf[0])) #com este valor obtemos DC\n",
        "print(np.abs(yf[1]))\n",
        "print(np.abs(yf[2]))\n",
        "print(np.abs(yf[3]))\n",
        "print(np.abs(yf[4]))\n",
        "print(np.abs(yf[5]))\n",
        "print(np.abs(yf[6]))\n",
        "print(np.abs(yf[7]))\n",
        "print(np.abs(yf[8]))\n",
        "\n",
        "#em RADIANOS:\n",
        "print('Fase:')\n",
        "print(np.angle(yf[0]))\n",
        "print(np.angle(yf[1]))\n",
        "print(np.angle(yf[2]))\n",
        "print(np.angle(yf[3]))\n",
        "print(np.angle(yf[4]))\n",
        "print(np.angle(yf[5]))\n",
        "print(np.angle(yf[6]))\n",
        "print(np.angle(yf[7]))\n",
        "print(np.angle(yf[8]))"
      ],
      "metadata": {
        "colab": {
          "base_uri": "https://localhost:8080/"
        },
        "id": "5hskV3SoUNCS",
        "outputId": "b24058f4-d329-4f69-90e1-a76536eef54e"
      },
      "execution_count": null,
      "outputs": [
        {
          "output_type": "stream",
          "name": "stdout",
          "text": [
            "Magnitude:\n",
            "14.0\n",
            "5.194904201888327\n",
            "3.871150951581781\n",
            "1.3228756555322954\n",
            "0.16480486421968238\n",
            "0.16480486421968238\n",
            "1.3228756555322954\n",
            "3.871150951581781\n",
            "5.194904201888327\n",
            "Fase:\n",
            "-0.0\n",
            "-2.129912937266475\n",
            "-3.0014289419457776\n",
            "-1.7609219301413634\n",
            "-2.933242529812738\n",
            "2.933242529812738\n",
            "1.7609219301413634\n",
            "3.0014289419457776\n",
            "2.129912937266475\n"
          ]
        }
      ]
    },
    {
      "cell_type": "code",
      "source": [
        "#Número de amostras:\n",
        "N=len(yf)\n",
        "#Frequência de Nyquist é 16 HZ\n",
        "Fs=32\n",
        "#Período de amostragem\n",
        "Ts=1/Fs\n",
        "x= Ts * np.arange(N)\n",
        "\n",
        "#Módulo (magnitude) do sinal\n",
        "magnitude = np.abs(yf)\n",
        "\n",
        "#Fase do sinal\n",
        "fase = np.angle(yf)\n",
        "\n",
        "#Plotando o gráfico da Magnitude (módulo) x frequência:\n",
        "plt.stem(freqs_analises, magnitude)\n",
        "plt.xlabel('Frequência (Hz)')\n",
        "plt.ylabel('Magnitude')"
      ],
      "metadata": {
        "colab": {
          "base_uri": "https://localhost:8080/",
          "height": 467
        },
        "id": "S6xIdATFTq77",
        "outputId": "568382ee-a505-4cc4-dec1-20f9869a4694"
      },
      "execution_count": null,
      "outputs": [
        {
          "output_type": "execute_result",
          "data": {
            "text/plain": [
              "Text(0, 0.5, 'Magnitude')"
            ]
          },
          "metadata": {},
          "execution_count": 22
        },
        {
          "output_type": "display_data",
          "data": {
            "text/plain": [
              "<Figure size 640x480 with 1 Axes>"
            ],
            "image/png": "[encoded data removed]"
          },
          "metadata": {}
        }
      ]
    },
    {
      "cell_type": "code",
      "source": [
        "#Plotando o gráfico da fase x frequência:\n",
        "plt.stem(freqs_analises,fase)\n",
        "plt.xlabel('Frequência (Hz)')\n",
        "plt.ylabel('Fase (rad)')"
      ],
      "metadata": {
        "colab": {
          "base_uri": "https://localhost:8080/",
          "height": 467
        },
        "id": "CwCYY2cDVx6i",
        "outputId": "fc16adaf-7109-40aa-9889-4834c7e4f862"
      },
      "execution_count": null,
      "outputs": [
        {
          "output_type": "execute_result",
          "data": {
            "text/plain": [
              "Text(0, 0.5, 'Fase (rad)')"
            ]
          },
          "metadata": {},
          "execution_count": 23
        },
        {
          "output_type": "display_data",
          "data": {
            "text/plain": [
              "<Figure size 640x480 with 1 Axes>"
            ],
            "image/png": "[encoded data removed]"
          },
          "metadata": {}
        }
      ]
    },
    {
      "cell_type": "markdown",
      "source": [
        "#QUESTÃO 1-D\n",
        "\n",
        "O valor DC representa o valor médio do sinal."
      ],
      "metadata": {
        "id": "bRwSMp06VNLE"
      }
    },
    {
      "cell_type": "code",
      "source": [
        "print(np.abs(yf[0])/len(yf)) #com este valor obtemos DC"
      ],
      "metadata": {
        "colab": {
          "base_uri": "https://localhost:8080/"
        },
        "id": "C_Y7BYTiVMay",
        "outputId": "cee1bed5-50fb-450c-9b99-1ad9e3820c31"
      },
      "execution_count": null,
      "outputs": [
        {
          "output_type": "stream",
          "name": "stdout",
          "text": [
            "1.5555555555555556\n"
          ]
        }
      ]
    },
    {
      "cell_type": "markdown",
      "source": [
        "#QUESTÃO 1-E\n",
        "\n",
        "Os dois valores são iguais"
      ],
      "metadata": {
        "id": "TL117Iw9WMOL"
      }
    },
    {
      "cell_type": "code",
      "source": [
        "# Verificando o TEOREMA DE PARSEVAL:\n",
        "#Energia no domínio do tempo:\n",
        "Ex_n = sum(abs(y)**2)\n",
        "print(Ex_n)\n",
        "#Energia no domínio da frequência\n",
        "Ex_k = (1/yf.size)*sum(abs(yf)**2)\n",
        "print(Ex_k)"
      ],
      "metadata": {
        "colab": {
          "base_uri": "https://localhost:8080/"
        },
        "id": "KJUFDXz5U-dK",
        "outputId": "3e17c38a-31f7-4e35-be54-380d6f48c0f7"
      },
      "execution_count": null,
      "outputs": [
        {
          "output_type": "stream",
          "name": "stdout",
          "text": [
            "31.5\n",
            "31.5\n"
          ]
        }
      ]
    }
  ]
}